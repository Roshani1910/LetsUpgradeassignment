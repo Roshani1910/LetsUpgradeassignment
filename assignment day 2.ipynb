{
 "cells": [
  {
   "cell_type": "markdown",
   "metadata": {},
   "source": [
    "# 1. list"
   ]
  },
  {
   "cell_type": "code",
   "execution_count": 36,
   "metadata": {},
   "outputs": [
    {
     "name": "stdout",
     "output_type": "stream",
     "text": [
      "[12, 2, 34, 42, 15, 6]\n",
      "2\n",
      "4\n",
      "[12, 2, 34, 2, 42, 15]\n",
      "[3, 12, 2, 34, 2, 42, 15]\n",
      "[15, 42, 2, 34, 2, 12, 3]\n"
     ]
    }
   ],
   "source": [
    "lst=[12,2,34,42,15]\n",
    "lst.append(6)\n",
    "print(lst)\n",
    "lst.insert(3,2)\n",
    "print(lst.count(2))\n",
    "print(lst.index(42))\n",
    "lst.pop()\n",
    "print(lst)\n",
    "lst.insert(0,3)\n",
    "print(lst)\n",
    "lst.reverse()\n",
    "print(lst)\n",
    "lst.sort()\n"
   ]
  },
  {
   "cell_type": "markdown",
   "metadata": {},
   "source": [
    "# dictionary"
   ]
  },
  {
   "cell_type": "code",
   "execution_count": 31,
   "metadata": {},
   "outputs": [
    {
     "name": "stdout",
     "output_type": "stream",
     "text": [
      "dict_items([('Roll No', 1), ('Name', 'Rihanna'), ('Weight', 56.9)])\n",
      "dict_keys(['Roll No', 'Name', 'Weight'])\n",
      "dict_values([1, 'Rihanna', 56.9])\n",
      "1\n",
      "{'Name': 'Rihanna', 'Weight': 56.9}\n",
      "<class 'dict'>\n"
     ]
    },
    {
     "data": {
      "text/plain": [
       "{'Name': 'Rihanna', 'Weight': 56.9}"
      ]
     },
     "execution_count": 31,
     "metadata": {},
     "output_type": "execute_result"
    }
   ],
   "source": [
    "dic={\"Roll No\": 1,\"Name\":\"Rihanna\",\"Weight\":56.9}\n",
    "print(dic.items())\n",
    "print(dic.keys())\n",
    "print(dic.values())\n",
    "print(dic.pop(\"Roll No\"))\n",
    "print(dic)\n",
    "print(type(dic))\n",
    "dic.copy()\n"
   ]
  },
  {
   "cell_type": "markdown",
   "metadata": {},
   "source": [
    "# SETS"
   ]
  },
  {
   "cell_type": "code",
   "execution_count": 46,
   "metadata": {},
   "outputs": [
    {
     "name": "stdout",
     "output_type": "stream",
     "text": [
      "{'abc'}\n",
      "{1, 2, 3}\n",
      "False\n",
      "{1, 'abc', 3, 2, 4, 5, 6, 'xyz'}\n",
      "3\n",
      "{1, 'abc', 2}\n"
     ]
    }
   ],
   "source": [
    "sets={\"abc\",1,2,3}\n",
    "sets2={\"xyz\",4,5,6,\"abc\"}\n",
    "print(sets.intersection(sets2))\n",
    "print(sets.difference(sets2))\n",
    "print(sets2.issubset(sets))\n",
    "print(sets.union(sets2))\n",
    "print(sets.pop())\n",
    "print(sets)"
   ]
  },
  {
   "cell_type": "markdown",
   "metadata": {},
   "source": [
    "# tuples"
   ]
  },
  {
   "cell_type": "code",
   "execution_count": 52,
   "metadata": {},
   "outputs": [
    {
     "name": "stdout",
     "output_type": "stream",
     "text": [
      "1\n",
      "3\n",
      "<class 'tuple'>\n"
     ]
    }
   ],
   "source": [
    "tup=(\"a\",\"b\",\"c\",1)\n",
    "print(tup.count(\"a\"))\n",
    "print(tup.index(1))\n",
    "print(type(tup))\n"
   ]
  },
  {
   "cell_type": "markdown",
   "metadata": {},
   "source": [
    "# Strings"
   ]
  },
  {
   "cell_type": "code",
   "execution_count": 73,
   "metadata": {},
   "outputs": [
    {
     "name": "stdout",
     "output_type": "stream",
     "text": [
      "Woahh!! you won 123 \n",
      "False\n",
      "2\n",
      "True\n",
      "8\n"
     ]
    }
   ],
   "source": [
    "string =\"woahh!! You won 123 \"\n",
    "print(string.capitalize())\n",
    "print(string.isnumeric())\n",
    "print(string.count(\"w\"))\n",
    "print(string.endswith(\" \"))\n",
    "print(string.find(\"You\"))"
   ]
  },
  {
   "cell_type": "code",
   "execution_count": null,
   "metadata": {},
   "outputs": [],
   "source": []
  }
 ],
 "metadata": {
  "kernelspec": {
   "display_name": "Python 3",
   "language": "python",
   "name": "python3"
  },
  "language_info": {
   "codemirror_mode": {
    "name": "ipython",
    "version": 3
   },
   "file_extension": ".py",
   "mimetype": "text/x-python",
   "name": "python",
   "nbconvert_exporter": "python",
   "pygments_lexer": "ipython3",
   "version": "3.7.0"
  }
 },
 "nbformat": 4,
 "nbformat_minor": 4
}
